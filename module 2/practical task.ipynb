{
 "cells": [
  {
   "cell_type": "code",
   "execution_count": 7,
   "id": "e547934e-a98e-4007-89d4-0e1eb8a271ad",
   "metadata": {},
   "outputs": [
    {
     "name": "stdout",
     "output_type": "stream",
     "text": [
      "enter positive number :  -1\n"
     ]
    },
    {
     "name": "stdout",
     "output_type": "stream",
     "text": [
      "Enter positive number and greter than 0\n"
     ]
    }
   ],
   "source": [
    "# 1 write a python program to sum of the first n positive integers\n",
    "def sum(n):\n",
    "    return (n*(n+1)//2)\n",
    "\n",
    "n =int(input(\"enter positive number : \"))\n",
    "\n",
    "if n>0:\n",
    "    total=sum(n)\n",
    "    \n",
    "    print(f\"total sum of n number is {total}\")\n",
    "\n",
    "else:\n",
    "    print(\"Enter positive number and greter than 0\")"
   ]
  },
  {
   "cell_type": "code",
   "execution_count": null,
   "id": "9d08f9fe-d273-4160-8607-810210b15556",
   "metadata": {},
   "outputs": [],
   "source": [
    "#2 Write a Python program to count occurrences of a substring in a string."
   ]
  },
  {
   "cell_type": "code",
   "execution_count": 13,
   "id": "a427b805-6b9d-4858-8687-8e0c291e1afe",
   "metadata": {},
   "outputs": [
    {
     "name": "stdout",
     "output_type": "stream",
     "text": [
      "enter the word :  krrish\n",
      "enter the repited word in the word : r\n"
     ]
    },
    {
     "name": "stdout",
     "output_type": "stream",
     "text": [
      "2\n"
     ]
    }
   ],
   "source": [
    "word =input(\"enter the word : \")\n",
    "in_word =input(\"enter the repited word in the word :\")\n",
    "\n",
    "count =word.count(in_word)\n",
    "\n",
    "print(count)\n"
   ]
  },
  {
   "cell_type": "code",
   "execution_count": null,
   "id": "d47f289b-86d6-4042-9680-3537cf324bcf",
   "metadata": {},
   "outputs": [],
   "source": [
    "# 3 Write a Python program to count the occurrences of each word in a given sentence."
   ]
  },
  {
   "cell_type": "code",
   "execution_count": null,
   "id": "38af4be6-93e0-47f1-b592-e8584ee272f5",
   "metadata": {},
   "outputs": [
    {
     "name": "stdout",
     "output_type": "stream",
     "text": [
      "enter the sentence: my name is krish and my friend name is himanshu\n"
     ]
    },
    {
     "name": "stdout",
     "output_type": "stream",
     "text": [
      "the line is : ['my', 'name', 'is', 'krish', 'and', 'my', 'friend', 'name', 'is', 'himanshu']\n",
      "is --- 2 times\n",
      "and --- 1 times\n",
      "name --- 2 times\n",
      "himanshu --- 1 times\n",
      "my --- 2 times\n",
      "friend --- 1 times\n",
      "krish --- 1 times\n"
     ]
    }
   ],
   "source": [
    "word =input(\"enter the sentence:\")\n",
    "split =word.split()\n",
    "print(\"the line is :\".split)\n",
    "for i in set (split):\n",
    "    count =split.count(i)\n",
    "    print(f\"{i} --- {count} times\")"
   ]
  },
  {
   "cell_type": "code",
   "execution_count": null,
   "id": "dbcd565e-6156-4527-a9fe-71f276aa50cd",
   "metadata": {},
   "outputs": [],
   "source": [
    "# 4 Write a Python program to get a single string from two given strings, separated bya space and swap the first two characters of each string."
   ]
  },
  {
   "cell_type": "code",
   "execution_count": 37,
   "id": "5af92dc6-94b6-4aa4-bc91-cc27937f9eab",
   "metadata": {},
   "outputs": [
    {
     "name": "stdout",
     "output_type": "stream",
     "text": [
      "enter frist word:  krish\n",
      "enter second word: modasiya\n"
     ]
    },
    {
     "name": "stdout",
     "output_type": "stream",
     "text": [
      "moish krdasiya\n"
     ]
    }
   ],
   "source": [
    "first_word =input(\"enter frist word: \")\n",
    "second_word =input(\"enter second word:\")\n",
    "new_1=second_word[:2] +first_word[2:]\n",
    "new_2=first_word[:2]+second_word[2:]\n",
    "k =new_1+\" \"+new_2\n",
    "print(k)"
   ]
  },
  {
   "cell_type": "code",
   "execution_count": 68,
   "id": "8928760d-84e5-4943-9079-1b1ee03e1e7f",
   "metadata": {},
   "outputs": [],
   "source": [
    "# 5 Write a Python program to add 'ing' at the end of a given string (length should beat least 3). If the given string already ends with 'ing' then add 'ly' instead If thestring length of the given string is less than 3, leave it unchanged"
   ]
  },
  {
   "cell_type": "code",
   "execution_count": 1,
   "id": "0f3d1fa5-d802-4ae5-9fef-396c78fa2fc6",
   "metadata": {},
   "outputs": [
    {
     "name": "stdout",
     "output_type": "stream",
     "text": [
      "enter word:  play\n"
     ]
    },
    {
     "name": "stdout",
     "output_type": "stream",
     "text": [
      "playing\n"
     ]
    }
   ],
   "source": [
    "word =input(\"enter word: \")\n",
    "if len(word) >=3:\n",
    "    if word[-3:] ==\"ing\":\n",
    "        word =word+\"ly\"\n",
    "    else:\n",
    "        word =word+\"ing\"\n",
    "print(word)\n",
    "        "
   ]
  },
  {
   "cell_type": "code",
   "execution_count": null,
   "id": "22be2207-65bf-4068-bb10-909e2ed00fc9",
   "metadata": {},
   "outputs": [],
   "source": [
    "#6 Write a Python program to find the first appearance of the substring 'not' andpoor' from a given string, if 'not' follows the 'poor', replace the whole 'not'...'poor'substring with 'good'. Return the resulting string"
   ]
  },
  {
   "cell_type": "code",
   "execution_count": null,
   "id": "ce708c76-f089-4154-8d11-2366e0729516",
   "metadata": {},
   "outputs": [
    {
     "name": "stdout",
     "output_type": "stream",
     "text": [
      "the food is good \n"
     ]
    }
   ],
   "source": [
    "s = input(\"enter the s:\")\n",
    "if \"not\" in s and \"poor\" in s:\n",
    "    s_index = s.index(\"not\")\n",
    "    e_index=s.index(\"poor\")\n",
    "\n",
    "    if s_index <e_index:\n",
    "        s2=s[:s_index] + \"good\" +s[e_index +4:]\n",
    "print(s2)"
   ]
  },
  {
   "cell_type": "code",
   "execution_count": null,
   "id": "528b7670-6ce8-41e4-8da7-20dbd1c7ce95",
   "metadata": {},
   "outputs": [],
   "source": [
    "#7. Program to find Greatest Common Divisor of two numbers. For example, the GCD of 20 and 28 is 4 and the GCD of 98 and 56 is 14."
   ]
  },
  {
   "cell_type": "code",
   "execution_count": 5,
   "id": "f2536a82-da45-4db0-ba3c-6e930799b095",
   "metadata": {},
   "outputs": [
    {
     "name": "stdout",
     "output_type": "stream",
     "text": [
      "the gcd is---4\n"
     ]
    }
   ],
   "source": [
    "def gcd(a,b):\n",
    "    while b:\n",
    "        a,b =b,a%b\n",
    "    return a\n",
    "\n",
    "number1 =20\n",
    "number2 =28\n",
    "print(f\"the gcd is {gcd(number1,number2)}\")"
   ]
  },
  {
   "cell_type": "code",
   "execution_count": 62,
   "id": "be3e562d-bc40-41e1-9fb7-5e2ce547337e",
   "metadata": {},
   "outputs": [],
   "source": [
    "# 8.Write a Python program to check whether a list contains a sublist."
   ]
  },
  {
   "cell_type": "code",
   "execution_count": 13,
   "id": "38b333bd-4fba-4430-971b-139f749a0f50",
   "metadata": {},
   "outputs": [
    {
     "name": "stdout",
     "output_type": "stream",
     "text": [
      "['a', '2', '4']\n",
      "sublist is not here \n"
     ]
    }
   ],
   "source": [
    "l1 =['k','2','[1,2,3]','4']\n",
    "print(l1)\n",
    "for i in l1:\n",
    "    if len(i) >1:\n",
    "        print(\"sublist is here \")\n",
    "        break\n",
    "\n",
    "else:\n",
    "    print(\"sublist is not here \")"
   ]
  },
  {
   "cell_type": "code",
   "execution_count": 84,
   "id": "c566a3e2-b7a9-48ff-bb96-6c6898e536d2",
   "metadata": {},
   "outputs": [],
   "source": [
    "# 9.Write a Python program to find the second smallest number in a list"
   ]
  },
  {
   "cell_type": "code",
   "execution_count": 90,
   "id": "7b69b152-9b60-4b60-9be2-382e9fffe505",
   "metadata": {},
   "outputs": [
    {
     "name": "stdout",
     "output_type": "stream",
     "text": [
      "2\n"
     ]
    }
   ],
   "source": [
    "number =[1,2,3,4,5,6,7,8,9]\n",
    "l =list(set(number))\n",
    "l.sort()\n",
    "print(l[1])"
   ]
  },
  {
   "cell_type": "code",
   "execution_count": null,
   "id": "46f225d1-85b4-42cb-9741-b5d2596718dc",
   "metadata": {},
   "outputs": [],
   "source": [
    "# 10.Write a Python program to get unique values from a list."
   ]
  },
  {
   "cell_type": "code",
   "execution_count": 12,
   "id": "dc4a9143-c64e-4b61-b538-06812f985f2d",
   "metadata": {},
   "outputs": [
    {
     "name": "stdout",
     "output_type": "stream",
     "text": [
      "[1, 1, 1, 2, 3, 2, 1, 4, 5, 5, 7, 9, 10, 6, 10]\n",
      "[1, 2, 3, 4, 5, 6, 7, 9, 10]\n"
     ]
    }
   ],
   "source": [
    "l = [1,1,1,2,3,2,1,4,5,5,7,9,10,6,10]\n",
    "k = list(set(l))\n",
    "print(l)\n",
    "print(k)"
   ]
  },
  {
   "cell_type": "code",
   "execution_count": null,
   "id": "f8ead09f-1732-4648-bd37-f846ab7a3835",
   "metadata": {},
   "outputs": [],
   "source": [
    "#11 Write a Python program to unzip a list of tuples into individual lists."
   ]
  },
  {
   "cell_type": "code",
   "execution_count": null,
   "id": "1d788297-33bb-405a-b6eb-fa5d931ab393",
   "metadata": {},
   "outputs": [],
   "source": [
    "number =[(1,2),(3,4),(5,6),(7,8)]\n",
    "l1 =[]\n",
    "l2 =[]\n",
    "for a,b in k:\n",
    "    l1.append(a)\n",
    "    l1.append(b)\n",
    "\n",
    "print(l1)\n",
    "print(l2)"
   ]
  },
  {
   "cell_type": "code",
   "execution_count": null,
   "id": "f732bb31-b72d-456e-aad1-ff18dfa78555",
   "metadata": {},
   "outputs": [],
   "source": [
    "#12.Write a Python program to convert a list of tuples into a dictionary"
   ]
  },
  {
   "cell_type": "code",
   "execution_count": 94,
   "id": "e0edde2b-ba41-4cc5-bb2b-af2b71b91372",
   "metadata": {},
   "outputs": [
    {
     "name": "stdout",
     "output_type": "stream",
     "text": [
      "<class 'tuple'>\n",
      "{'dubai': 'abubhabi', 'india': 'gujarat'}\n",
      "<class 'dict'>\n"
     ]
    }
   ],
   "source": [
    "tuple_ = ('dubai','abubhabi'),('india','gujarat')\n",
    "print(type(tuple_))\n",
    "dict_= dict(tuple_)\n",
    "print(dict_)\n",
    "print(type(dict_))"
   ]
  },
  {
   "cell_type": "code",
   "execution_count": null,
   "id": "aa19bf1d-ef92-45f8-b57a-303728c97048",
   "metadata": {},
   "outputs": [],
   "source": [
    "#13 Write a Python program to sort a dictionary (ascending /descending) by value."
   ]
  },
  {
   "cell_type": "code",
   "execution_count": 64,
   "id": "24077dd2-acf3-4a6a-af4c-f386d6c50d3c",
   "metadata": {},
   "outputs": [
    {
     "name": "stdout",
     "output_type": "stream",
     "text": [
      "asc: {'meetraj': 14, 'krish': 15, 'himanshu': 17}\n",
      "desc: {'himanshu': 17, 'krish': 15, 'meetraj': 14}\n"
     ]
    }
   ],
   "source": [
    "d ={\n",
    "    'krish':15,\n",
    "    'himanshu':17,\n",
    "    'meetraj':14\n",
    "}\n",
    "def i(item):\n",
    "    return item[1]\n",
    "\n",
    "ascending =dict(sorted(d.items(),key=i))\n",
    "print(\"asc:\",ascending)\n",
    "descending =dict(sorted(d.items(),key=i,reverse=True))\n",
    "print(\"desc:\",descending)"
   ]
  },
  {
   "cell_type": "code",
   "execution_count": null,
   "id": "1cd52226-ea9b-415d-a12c-ec2d25191600",
   "metadata": {},
   "outputs": [],
   "source": [
    "#14 Write a Python program to find the highest 3 values in a dictionary."
   ]
  },
  {
   "cell_type": "code",
   "execution_count": null,
   "id": "328842ed-23b8-4ef1-ac79-0dc808c60d56",
   "metadata": {},
   "outputs": [],
   "source": []
  },
  {
   "cell_type": "code",
   "execution_count": 11,
   "id": "c300807f-4fc6-4b9d-9aa4-56f27f5cff2f",
   "metadata": {},
   "outputs": [
    {
     "name": "stdout",
     "output_type": "stream",
     "text": [
      "TOP 3 HIGHEST VALUES:\n",
      "d:710\n",
      "e:400\n",
      "c:130\n"
     ]
    }
   ],
   "source": [
    "dict1 = {'a':10,'b':50,'c':130,'d':710,'e':400}\n",
    "\n",
    "k = sorted(dict1.items(),key=lambda item:item[1],reverse=True)[:3]\n",
    "\n",
    "print('TOP 3 HIGHEST VALUES:')\n",
    "\n",
    "for key,value in k:\n",
    "    \n",
    "    print(f\"{key}:{value}\")"
   ]
  },
  {
   "cell_type": "code",
   "execution_count": null,
   "id": "500f9fa3-256a-4eb3-8e45-351a2437cb00",
   "metadata": {},
   "outputs": [],
   "source": [
    "#15 Given a number n, write a python program to make and print the list of Fibonacci series up to n. Input : n=7 Hint : first 7 numbers in the series"
   ]
  },
  {
   "cell_type": "code",
   "execution_count": 9,
   "id": "ad697e66-9a72-49f2-86c4-3410a55bfef0",
   "metadata": {},
   "outputs": [
    {
     "name": "stdout",
     "output_type": "stream",
     "text": [
      "enter number 7\n"
     ]
    },
    {
     "name": "stdout",
     "output_type": "stream",
     "text": [
      "0,1,1,2,3,5,8,"
     ]
    }
   ],
   "source": [
    "number = int(input(\"enter number\"))\n",
    "\n",
    "\n",
    "a = 0\n",
    "b = 1\n",
    "\n",
    "for i in range(number):\n",
    "    print(a,end=',')\n",
    "    c = a+b\n",
    "    a =b\n",
    "    b = c"
   ]
  },
  {
   "cell_type": "code",
   "execution_count": null,
   "id": "9519a159-9f3e-477d-ae55-1fae01936eff",
   "metadata": {},
   "outputs": [],
   "source": [
    "#16"
   ]
  },
  {
   "cell_type": "code",
   "execution_count": 7,
   "id": "36e3a97d-b330-4b6f-aad2-6408cd32c9d2",
   "metadata": {},
   "outputs": [
    {
     "name": "stdout",
     "output_type": "stream",
     "text": [
      "{1: 5, 2: 4, 3: 3, 4: 3, 5: 2}\n"
     ]
    }
   ],
   "source": [
    "l1 =[1,1,1,5,5,3,1,3,3,1,4,4,4,2,2,2,2]\n",
    "frequency ={}\n",
    "\n",
    "for i in l1:\n",
    "    if i in frequency:\n",
    "        frequency[i] += 1\n",
    "    else:\n",
    "        frequency[i] = 1\n",
    "sorted_list =dict(sorted(frequency.items()))\n",
    "print(sorted_list)\n",
    "        "
   ]
  },
  {
   "cell_type": "code",
   "execution_count": null,
   "id": "56eae065-2992-4391-8be7-9877834a3811",
   "metadata": {},
   "outputs": [],
   "source": [
    "#17 Write a python program using function to find the sum of odd series and even series"
   ]
  },
  {
   "cell_type": "code",
   "execution_count": 35,
   "id": "36299604-f8ea-4490-befd-f240462a2d38",
   "metadata": {},
   "outputs": [
    {
     "name": "stdout",
     "output_type": "stream",
     "text": [
      "30\n",
      "25\n"
     ]
    }
   ],
   "source": [
    "def even():\n",
    "    total = 2+4+6+8+10\n",
    "    return total\n",
    "def odd():\n",
    "    total = 1+3+5+7+9\n",
    "    return total\n",
    "\n",
    "print(even())\n",
    "print(odd())"
   ]
  },
  {
   "cell_type": "code",
   "execution_count": 33,
   "id": "da212e2a-2eae-410e-9217-b26fe73f1825",
   "metadata": {},
   "outputs": [],
   "source": [
    "#18 Python Program to Find Factorial of Number Using Recursion"
   ]
  },
  {
   "cell_type": "code",
   "execution_count": 102,
   "id": "27ab71cc-21e1-458f-9af8-9893b1f7f4f3",
   "metadata": {},
   "outputs": [
    {
     "name": "stdout",
     "output_type": "stream",
     "text": [
      "120\n"
     ]
    }
   ],
   "source": [
    "def factorial (n):\n",
    "    if n==0 or n==1:\n",
    "        return 1\n",
    "    else:\n",
    "        return n*factorial(n-1)\n",
    "\n",
    "number =5\n",
    "if number <0:\n",
    "    print(\"enter positive number\")\n",
    "\n",
    "else:\n",
    "    print(factorial(number))"
   ]
  },
  {
   "cell_type": "code",
   "execution_count": null,
   "id": "0e0f56b2-4126-4788-b4e7-a6219341cb37",
   "metadata": {},
   "outputs": [],
   "source": [
    "#19 Write a Python function that takes a list and returns a new list with unique elements of the first list.\n"
   ]
  },
  {
   "cell_type": "code",
   "execution_count": 108,
   "id": "1863e2a9-c351-4150-afe1-9c5797d5f6e1",
   "metadata": {},
   "outputs": [
    {
     "name": "stdout",
     "output_type": "stream",
     "text": [
      "[1, 2, 3, 4, 5, 6, 7, 8, 9, 10, 11]\n"
     ]
    }
   ],
   "source": [
    "def new(l):\n",
    "    list_1=list(set(l))\n",
    "    return list_1\n",
    "\n",
    "l2 =[1,1,1,2,3,4,5,2,6,5,8,7,9,10,11]\n",
    "u =new(l2)\n",
    "print(u)"
   ]
  },
  {
   "cell_type": "code",
   "execution_count": null,
   "id": "c651485c-0941-4756-99b2-97753f3f73c1",
   "metadata": {},
   "outputs": [],
   "source": [
    "#20 password gen"
   ]
  },
  {
   "cell_type": "code",
   "execution_count": 21,
   "id": "ec3bf1aa-002d-41bd-8e3c-a132aa44ee36",
   "metadata": {},
   "outputs": [
    {
     "name": "stdout",
     "output_type": "stream",
     "text": [
      "----------------------------------------------------------------\n"
     ]
    },
    {
     "name": "stdout",
     "output_type": "stream",
     "text": [
      "enter some hints for password krish modasiya\n"
     ]
    },
    {
     "name": "stdout",
     "output_type": "stream",
     "text": [
      "krishKrishkrish93&\n",
      "----------------------------------------------------------------\n"
     ]
    }
   ],
   "source": [
    "import random\n",
    "\n",
    "def pass1(hints):\n",
    "    \n",
    "    try:\n",
    "\n",
    "        \n",
    "        word=hints.split()\n",
    "        \n",
    "        if len(word)<2:\n",
    "            print(\"enter 2 word \")\n",
    "            \n",
    "            return 0\n",
    "        k=random.choice(word)\n",
    "        k1=k.capitalize()\n",
    "        k2=random.choice(word)\n",
    "        \n",
    "        number =str(random.randint(10,99))\n",
    "        \n",
    "        symbol=random.choice(\"!@#$%^&*_\")\n",
    "        password = k+k1+k2+number+symbol\n",
    "\n",
    "        \n",
    "        while len(password)<9:\n",
    "            \n",
    "            password += random.choice(\"qwertyuiopasdfghjklzxcvbnm\")\n",
    "            \n",
    "        return password\n",
    "\n",
    "    \n",
    "    except Exception as e:\n",
    "        \n",
    "        print(\"error:\",e)\n",
    "        \n",
    "        return None\n",
    "\n",
    "\n",
    "\n",
    "print(\"----------------------------------------------------------------\")\n",
    "\n",
    "hints = input(\"enter some hints for password\")\n",
    "\n",
    "password =pass1(hints)\n",
    "\n",
    "if password:\n",
    "    \n",
    "    print(password)\n",
    "\n",
    "else:\n",
    "    print(\"password is not create \")\n",
    "\n",
    "print(\"----------------------------------------------------------------\")\n"
   ]
  },
  {
   "cell_type": "code",
   "execution_count": null,
   "id": "62a6a072-6e7b-4c67-a976-44f7b4470261",
   "metadata": {},
   "outputs": [],
   "source": []
  }
 ],
 "metadata": {
  "kernelspec": {
   "display_name": "Python [conda env:base] *",
   "language": "python",
   "name": "conda-base-py"
  },
  "language_info": {
   "codemirror_mode": {
    "name": "ipython",
    "version": 3
   },
   "file_extension": ".py",
   "mimetype": "text/x-python",
   "name": "python",
   "nbconvert_exporter": "python",
   "pygments_lexer": "ipython3",
   "version": "3.12.7"
  }
 },
 "nbformat": 4,
 "nbformat_minor": 5
}
